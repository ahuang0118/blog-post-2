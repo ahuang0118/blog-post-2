{
 "cells": [
  {
   "cell_type": "markdown",
   "metadata": {},
   "source": [
    "This blog post to do simple web development using `flask`. The goal is create a simple message bank that can received user messages and handles, and allow the user to the view a random selection of the stored messages. <br> <br>\n",
    " In order for this to work, we need to create an `app.py` in the directory and put any `html` files for the pages in the templates subfolder. We will need `base.html`, `submit.html` and `view.html` for the website.  There is also a `style.css` file in the static subfolder.<br><br>\n",
    "First of all, we need to import all the packages that are going to be needed:"
   ]
  },
  {
   "cell_type": "code",
   "execution_count": null,
   "metadata": {},
   "outputs": [],
   "source": [
    "from flask import g, render_template, request\n",
    "import sqlite3"
   ]
  },
  {
   "cell_type": "markdown",
   "metadata": {},
   "source": [
    "We can start buidling the website with a `base.html` where we can put the navigation links to the other functional pages. The source code of `base.html` is shown below:"
   ]
  },
  {
   "cell_type": "code",
   "execution_count": null,
   "metadata": {},
   "outputs": [],
   "source": [
    "<!doctype html>\n",
    "<link rel=\"stylesheet\" href=\"{{ url_for('static', filename='style.css') }}\">\n",
    "<title>{% block title %}{% endblock %} - PIC16B Website</title>\n",
    "<nav>\n",
    "  <h1>A Simple Message Bank</h1>\n",
    "  <!-- <b>Navigation:</b> -->\n",
    "  <ul>\n",
    "    <li><a href=\"{{ url_for('submit') }}\">Submit a message</a></li>\n",
    "    <li><a href=\"{{ url_for('view')}}\">View messages</a></li>\n",
    "  \n",
    "  </ul>\n",
    "</nav>\n",
    "<section class=\"content\">\n",
    "  <header>\n",
    "    {% block header %}{% endblock %}\n",
    "  </header>\n",
    "  {% block content %}{% endblock %}\n",
    "</section>\n"
   ]
  },
  {
   "cell_type": "markdown",
   "metadata": {},
   "source": [
    "### §1. Enable Submissions\n",
    "\n",
    "We can start by writing a function `get_message_db()` that creates a database connection as an attribute `message_db` of `g` if it doesn't already exist:"
   ]
  },
  {
   "cell_type": "code",
   "execution_count": null,
   "metadata": {},
   "outputs": [],
   "source": [
    "# Function to create a database for storing messages\n",
    "def get_message_db():\n",
    "    if hasattr(g,\"message_db\") == False: # check whether this attribute already exists\n",
    "        g.message_db = sqlite3.connect(\"message_db.sqlite\")\n",
    "    cursor = g.message_db.cursor()\n",
    "    cmd = \\\n",
    "    \"\"\" CREATE TABLE IF NOT EXISTS message(id, handle, message) \"\"\"\n",
    "    cursor.execute(cmd)\n",
    "    return g.message_db"
   ]
  },
  {
   "cell_type": "markdown",
   "metadata": {},
   "source": [
    "Then, we need to create a function `insert_message(request)` to insert every input message into the \"message_db.sqlite\" datebase using SQL command. The messages and handles can be obtained by `request.form[name]` where name is the name given to the message/handle in the `submit.html` file. <br>\n",
    "The messages should be saved along with an id number. The id number can be set to the total number of messages stored + 1. The total number of rows in the existing database can be found by selecting all rows from the message table and using `fetchall()`.<br>\n",
    "An `if` statement is added to ensure no empty input is accepted."
   ]
  },
  {
   "cell_type": "code",
   "execution_count": null,
   "metadata": {},
   "outputs": [],
   "source": [
    "# Function to insert new messages to database\n",
    "def insert_message(request):\n",
    "    db = get_message_db()\n",
    "    cursor = db.cursor()\n",
    "    # get the current total number of messages\n",
    "    count = db.cursor().execute(\"SELECT * From message\")\n",
    "    id = len(count.fetchall()) + 1\n",
    "    # get message and handle from input\n",
    "    message = request.form['message']\n",
    "    handle = request.form['handle']\n",
    "    if message and handle: # ensures no empty message gets inserted\n",
    "        cursor.execute(\"INSERT INTO message VALUES(?, ?, ?)\" , (id, handle, message))\n",
    "        db.commit()\n",
    "    db.close() # close connection"
   ]
  },
  {
   "cell_type": "markdown",
   "metadata": {},
   "source": [
    "The `submit.html` is extended from `base.html`. The submit page includes two input boxes that accept the message and handle as text input, and a submit button.\n",
    "This also includes two if statements showing messages for when there is a successful submission and an empty submission respectively. <br>\n",
    "The source code is shown below:"
   ]
  },
  {
   "cell_type": "code",
   "execution_count": null,
   "metadata": {},
   "outputs": [],
   "source": [
    "{% extends 'base.html' %}\n",
    "\n",
    "{% block header %}\n",
    "  <h1>{% block title %}Submit{% endblock %}</h1>\n",
    "{% endblock %}\n",
    "\n",
    "{% block content %}\n",
    "  <form method=\"post\">\n",
    "      <label for=\"message\">Your message:</label>\n",
    "      <br>\n",
    "      <input type=\"text\" name=\"message\" id=\"message\">\n",
    "      <br>\n",
    "      <label for=\"handle\">Your name or handle:</label>\n",
    "      <br>\n",
    "      <input type=\"text\" name=\"handle\" id=\"handle\">\n",
    "      <br>\n",
    "      <input type=\"submit\" value=\"Submit message\">\n",
    "  </form>\n",
    " \n",
    " {% if thanks %}\n",
    "    <br>\n",
    "    Thanks for submitting a message!\n",
    " {% endif %}\n",
    "\n",
    " {% if error %}\n",
    "    <br>\n",
    "    Please do not leave the message or name blank! \n",
    " {% endif %}\n",
    "\n",
    "{% endblock %}\n"
   ]
  },
  {
   "cell_type": "markdown",
   "metadata": {},
   "source": [
    "Now, we are ready to write the `submit()` function in our `app.py`. In the `@app.route` wrapper, we need to give the path to the submit page and the methods needed. Since this page will both transmit and receive data, it should support both `POST` and `GET` methods. With the `GET` method, the site should just render `submit.html`. With the `POST` method, `insert_message(request)` should be called to insert the new message and handle. If either of the message or the handle is empty, the error message should be displayed."
   ]
  },
  {
   "cell_type": "code",
   "execution_count": null,
   "metadata": {},
   "outputs": [],
   "source": [
    "@app.route('/submit/', methods=['POST', 'GET'])\n",
    "def submit():\n",
    "    with app.app_context(): # to avoid RuntimeError\n",
    "        if request.method == 'GET':\n",
    "            return render_template('submit.html')\n",
    "        else:\n",
    "            try:\n",
    "                insert_message(request)\n",
    "                if request.form['handle'] and request.form['message']: # check if either input is empty\n",
    "                      return render_template('submit.html', thanks = True)\n",
    "                else:\n",
    "                    return render_template('submit.html', error = True)\n",
    "            except:\n",
    "                return render_template('submit.html', error = True)\n"
   ]
  },
  {
   "cell_type": "markdown",
   "metadata": {},
   "source": [
    "Here is a screenshot of the submit page:"
   ]
  },
  {
   "cell_type": "markdown",
   "metadata": {},
   "source": [
    "### §2. Viewing Random Submissions\n",
    "We can now start working on the second page where the user can view the stored messages. The `random_messages(n)` function returns a random selection of n stored messages. This can be easily done by SQL command `SELECT handle, message FROM message ORDER BY RANDOM() LIMIT n`. The fucntion returns a list of tuples: `[(handle1, message1), (handle2, message2),...]`. I set the default n to 3. "
   ]
  },
  {
   "cell_type": "code",
   "execution_count": null,
   "metadata": {},
   "outputs": [],
   "source": [
    "# function to return a random selections of stored messages\n",
    "def random_messages(n=3):\n",
    "    db = get_message_db()\n",
    "    cursor = db.cursor()\n",
    "    count = db.cursor().execute(\"SELECT * From message\")\n",
    "    total_rows = len(count.fetchall())\n",
    "    if n > total_rows: # to ensure n is not larger than the total number of messages\n",
    "        n = total_rows \n",
    "    cmd = \"\"\"SELECT handle, message FROM message ORDER BY RANDOM() LIMIT %d\"\"\" %n\n",
    "    cursor.execute(cmd)\n",
    "    data = cursor.fetchall()\n",
    "    db.close() # close connection\n",
    "    return data\n"
   ]
  },
  {
   "cell_type": "markdown",
   "metadata": {},
   "source": [
    "Now, we can write `view()` for the view page. This page should render `view.html` and pass `data` (defined in `view.html`) to `view.html`."
   ]
  },
  {
   "cell_type": "code",
   "execution_count": null,
   "metadata": {},
   "outputs": [],
   "source": [
    "@app.route('/view/')\n",
    "def view():\n",
    "    return render_template('view.html', data=random_messages())"
   ]
  },
  {
   "cell_type": "markdown",
   "metadata": {},
   "source": [
    "Let's take a look at the source code of `view.html`.<br>\n",
    "First, I impletemented some CSS styling. I made the messages bold and sans-serif, slightly bigger than the handle that is italic, cursive and brown. <br> Then, I used for-loops to display all items in `data` (returned by `random_messages()`). Moreover, I also applied a `if` statement so that a message is displayed even if the database is empty."
   ]
  },
  {
   "cell_type": "code",
   "execution_count": null,
   "metadata": {},
   "outputs": [],
   "source": [
    "{% extends 'base.html' %}\n",
    "\n",
    "{% block header %}\n",
    "  <h1>{% block title %}Some Cool Messages {% endblock %}</h1>\n",
    "{% endblock %}\n",
    "\n",
    "{% block content %}\n",
    "<style>\n",
    "dt{\n",
    "  font-weight: bold;\n",
    "  font-family: Arial, Helvetica, sans-serif;\n",
    "  font-size: 16px;\n",
    "  }\n",
    "dd{\n",
    "  font-style: italic; \n",
    "  font-family: Brush Script MT, Brush Script Std, cursive;\n",
    "  font-size: 14px;\n",
    "  color:brown;\n",
    "}\n",
    "</style>\n",
    "{% if data %}\n",
    "  <dl>\n",
    "  {% for m in data %}\n",
    "      <dt>{{ m[1] }}</dt>\n",
    "      <dd>-- {{ m[0]}}</dd>\n",
    "      <br>\n",
    "  {% endfor %}\n",
    "  </dl>\n",
    "{% else %}\n",
    "  No messages yet!\n",
    "{% endif %}\n",
    "\n",
    "\n",
    "\n",
    "{% endblock %}\n"
   ]
  },
  {
   "cell_type": "markdown",
   "metadata": {},
   "source": [
    "Here is a screenshot of the view page of the website:"
   ]
  },
  {
   "cell_type": "markdown",
   "metadata": {},
   "source": []
  }
 ],
 "metadata": {
  "interpreter": {
   "hash": "4d23c531d93d35974a8c5b39e3fdd3cf34cec8d7d1c787311dd21b26955d6a28"
  },
  "kernelspec": {
   "display_name": "Python 3 (ipykernel)",
   "language": "python",
   "name": "python3"
  },
  "language_info": {
   "codemirror_mode": {
    "name": "ipython",
    "version": 3
   },
   "file_extension": ".py",
   "mimetype": "text/x-python",
   "name": "python",
   "nbconvert_exporter": "python",
   "pygments_lexer": "ipython3",
   "version": "3.7.4"
  }
 },
 "nbformat": 4,
 "nbformat_minor": 2
}
